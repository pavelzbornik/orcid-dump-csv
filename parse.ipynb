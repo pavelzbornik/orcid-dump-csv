{
 "cells": [
  {
   "cell_type": "code",
   "execution_count": 1,
   "metadata": {},
   "outputs": [],
   "source": [
    "import pandas as pd\n",
    "import lxml.etree \n",
    "import csv\n",
    "import tarfile\n",
    "import os\n",
    "from tqdm import tqdm\n",
    "\n",
    "import glob"
   ]
  },
  {
   "cell_type": "code",
   "execution_count": 2,
   "metadata": {},
   "outputs": [
    {
     "name": "stderr",
     "output_type": "stream",
     "text": [
      "100%|██████████| 10000/10000 [01:03<00:00, 157.48it/s]\n"
     ]
    }
   ],
   "source": [
    "\n",
    "\n",
    "def getHeaderFromXSLT(xslt):\n",
    "    root=xslt.getroot()\n",
    "    \n",
    "    headers=[]\n",
    "\n",
    "    for item in root.findall('.//xsl:value-of',namespaces=root.nsmap):\n",
    "        #ignore variables\n",
    "        if (item.find('..').tag!='{http://www.w3.org/1999/XSL/Transform}variable'):\n",
    "            el = item.attrib['select'].replace('.//','').replace('@','').replace('normalize-space(translate(','').replace(\",'[¬]',''))\",'').replace('$','').replace('/','__')\n",
    "            if(el=='.'):\n",
    "                #select the parent of the tag in order ot get select attribute\n",
    "                el = item.find('..').attrib['select'].replace('.//','').replace('@','').replace('normalize-space(translate(','').replace(\",'[¬]',''))\",'').replace('$','').replace('/','__')\n",
    "            headers.append(el)\n",
    "    return headers\n",
    "\n",
    "\n",
    "    \n",
    "\n",
    "\n",
    "\n",
    "def readTar(file:str):\n",
    "    with tarfile.open(file, \"r:gz\") as tar:\n",
    "        # Go over each member\n",
    "        for member in tar:\n",
    "            if '.xml' in member.name:\n",
    "                yield tar.extractfile(member).read()  \n",
    "\n",
    "def writeRows(writer,tree,header,xslt):\n",
    "    transform = lxml.etree.XSLT(xslt)\n",
    "    transformed=transform(tree)\n",
    "    lines=str(transformed).split('$end_line$')\n",
    "    for line in lines:\n",
    "        #write only if there are values in the line\n",
    "        if (len(header)<=len(line)):\n",
    "            writer.writerow(line.split('¬'))\n",
    "\n",
    "\n",
    "def main():\n",
    "\n",
    "    file='ORCID_2021_10_summaries.tar.gz'\n",
    "\n",
    "\n",
    "    outdir='data'\n",
    "    os.makedirs(outdir, exist_ok=True)\n",
    "\n",
    "    xslt_files=[]\n",
    "    headers=[]\n",
    "    files=[]\n",
    "    filenames=[]\n",
    "    writers=[]\n",
    "\n",
    "    for xslt_file in glob.glob('xslt/*.xsl'):\n",
    "        xslt=lxml.etree.parse(xslt_file)\n",
    "        xslt_files.append(xslt)\n",
    "        name=os.path.basename(xslt_file).replace('.xsl','')\n",
    "        filenames.append(name)\n",
    "        f=open(os.path.join(outdir, \"orcid_\"+name+'.csv'), \"w\", encoding=\"utf8\")\n",
    "        files.append(f)\n",
    "        headers.append(getHeaderFromXSLT(xslt))\n",
    "        writers.append(csv.writer(f, lineterminator=\"\\n\"))\n",
    "\n",
    "\n",
    "    #write header row\n",
    "    for i in range(0,len(files)):\n",
    "        writers[i].writerow(headers[i])\n",
    "\n",
    "\n",
    "    import itertools\n",
    "\n",
    "    for xml in tqdm(itertools.islice(readTar(file), 10000),total=10000):\n",
    "    #for xml in tqdm(readTar(file),total=12000000):\n",
    "        # Extract member\n",
    "        tree = lxml.etree.fromstring(xml)\n",
    "        for i in range(0,len(files)):\n",
    "            writeRows(writers[i],tree,headers[i],xslt_files[i])\n",
    "            \n",
    "\n",
    "    for file in files:\n",
    "        file.close()\n",
    "            \n"
   ]
  }
 ],
 "metadata": {
  "kernelspec": {
   "display_name": "Python 3.9.13 64-bit",
   "language": "python",
   "name": "python3"
  },
  "language_info": {
   "codemirror_mode": {
    "name": "ipython",
    "version": 3
   },
   "file_extension": ".py",
   "mimetype": "text/x-python",
   "name": "python",
   "nbconvert_exporter": "python",
   "pygments_lexer": "ipython3",
   "version": "3.9.13"
  },
  "orig_nbformat": 4,
  "vscode": {
   "interpreter": {
    "hash": "0231656221878b8d95870d43fe2a6c265f262b31a475f1165baedc82f408ead7"
   }
  }
 },
 "nbformat": 4,
 "nbformat_minor": 2
}
